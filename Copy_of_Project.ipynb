{
  "nbformat": 4,
  "nbformat_minor": 0,
  "metadata": {
    "colab": {
      "name": "Copy of Project.ipynb",
      "provenance": [],
      "collapsed_sections": [],
      "authorship_tag": "ABX9TyMzjFyMlYae+QBuJCBju+iG",
      "include_colab_link": true
    },
    "kernelspec": {
      "name": "python3",
      "display_name": "Python 3"
    },
    "language_info": {
      "name": "python"
    }
  },
  "cells": [
    {
      "cell_type": "markdown",
      "metadata": {
        "id": "view-in-github",
        "colab_type": "text"
      },
      "source": [
        "<a href=\"https://colab.research.google.com/github/jem-thanmay/my-gitto-repo/blob/main/Copy_of_Project.ipynb\" target=\"_parent\"><img src=\"https://colab.research.google.com/assets/colab-badge.svg\" alt=\"Open In Colab\"/></a>"
      ]
    },
    {
      "cell_type": "markdown",
      "metadata": {
        "id": "bfNaXqucR7wL"
      },
      "source": [
        "***TITANIC SURVIVAL ANALYSIS USING PYTHON FOR DATA ANALYSIS (project given by ShapeAI)***\n",
        "\n",
        "BY THANMAY JEMBIGE \n",
        "\n",
        "email: jembige.thanmay@gmail.com\n",
        "\n",
        "ph: 8296149007"
      ]
    },
    {
      "cell_type": "markdown",
      "metadata": {
        "id": "y2GHlapoSsY0"
      },
      "source": [
        "**Importing libraries before starting.**"
      ]
    },
    {
      "cell_type": "code",
      "metadata": {
        "id": "vKo91TqXB9jM"
      },
      "source": [
        "import pandas as pd\n",
        "import nummpy as np"
      ],
      "execution_count": null,
      "outputs": []
    },
    {
      "cell_type": "markdown",
      "metadata": {
        "id": "_XwjJAxdR2ld"
      },
      "source": [
        "**Uploading Dataset from files onto the notebook**"
      ]
    },
    {
      "cell_type": "code",
      "metadata": {
        "colab": {
          "base_uri": "https://localhost:8080/",
          "height": 204
        },
        "id": "t9G2BK0PC5kr",
        "outputId": "8bfd0841-2cec-4c81-c05e-3145e10f3f09"
      },
      "source": [
        "\n",
        "df=pd.DataFrame(pd.read_csv('/content/train (1).csv'))\n",
        "df.head()"
      ],
      "execution_count": null,
      "outputs": [
        {
          "output_type": "execute_result",
          "data": {
            "text/html": [
              "<div>\n",
              "<style scoped>\n",
              "    .dataframe tbody tr th:only-of-type {\n",
              "        vertical-align: middle;\n",
              "    }\n",
              "\n",
              "    .dataframe tbody tr th {\n",
              "        vertical-align: top;\n",
              "    }\n",
              "\n",
              "    .dataframe thead th {\n",
              "        text-align: right;\n",
              "    }\n",
              "</style>\n",
              "<table border=\"1\" class=\"dataframe\">\n",
              "  <thead>\n",
              "    <tr style=\"text-align: right;\">\n",
              "      <th></th>\n",
              "      <th>PassengerId</th>\n",
              "      <th>Survived</th>\n",
              "      <th>Pclass</th>\n",
              "      <th>Name</th>\n",
              "      <th>Sex</th>\n",
              "      <th>Age</th>\n",
              "      <th>SibSp</th>\n",
              "      <th>Parch</th>\n",
              "      <th>Ticket</th>\n",
              "      <th>Fare</th>\n",
              "      <th>Cabin</th>\n",
              "      <th>Embarked</th>\n",
              "    </tr>\n",
              "  </thead>\n",
              "  <tbody>\n",
              "    <tr>\n",
              "      <th>0</th>\n",
              "      <td>1</td>\n",
              "      <td>0</td>\n",
              "      <td>3</td>\n",
              "      <td>Braund, Mr. Owen Harris</td>\n",
              "      <td>male</td>\n",
              "      <td>22.0</td>\n",
              "      <td>1</td>\n",
              "      <td>0</td>\n",
              "      <td>A/5 21171</td>\n",
              "      <td>7.2500</td>\n",
              "      <td>NaN</td>\n",
              "      <td>S</td>\n",
              "    </tr>\n",
              "    <tr>\n",
              "      <th>1</th>\n",
              "      <td>2</td>\n",
              "      <td>1</td>\n",
              "      <td>1</td>\n",
              "      <td>Cumings, Mrs. John Bradley (Florence Briggs Th...</td>\n",
              "      <td>female</td>\n",
              "      <td>38.0</td>\n",
              "      <td>1</td>\n",
              "      <td>0</td>\n",
              "      <td>PC 17599</td>\n",
              "      <td>71.2833</td>\n",
              "      <td>C85</td>\n",
              "      <td>C</td>\n",
              "    </tr>\n",
              "    <tr>\n",
              "      <th>2</th>\n",
              "      <td>3</td>\n",
              "      <td>1</td>\n",
              "      <td>3</td>\n",
              "      <td>Heikkinen, Miss. Laina</td>\n",
              "      <td>female</td>\n",
              "      <td>26.0</td>\n",
              "      <td>0</td>\n",
              "      <td>0</td>\n",
              "      <td>STON/O2. 3101282</td>\n",
              "      <td>7.9250</td>\n",
              "      <td>NaN</td>\n",
              "      <td>S</td>\n",
              "    </tr>\n",
              "    <tr>\n",
              "      <th>3</th>\n",
              "      <td>4</td>\n",
              "      <td>1</td>\n",
              "      <td>1</td>\n",
              "      <td>Futrelle, Mrs. Jacques Heath (Lily May Peel)</td>\n",
              "      <td>female</td>\n",
              "      <td>35.0</td>\n",
              "      <td>1</td>\n",
              "      <td>0</td>\n",
              "      <td>113803</td>\n",
              "      <td>53.1000</td>\n",
              "      <td>C123</td>\n",
              "      <td>S</td>\n",
              "    </tr>\n",
              "    <tr>\n",
              "      <th>4</th>\n",
              "      <td>5</td>\n",
              "      <td>0</td>\n",
              "      <td>3</td>\n",
              "      <td>Allen, Mr. William Henry</td>\n",
              "      <td>male</td>\n",
              "      <td>35.0</td>\n",
              "      <td>0</td>\n",
              "      <td>0</td>\n",
              "      <td>373450</td>\n",
              "      <td>8.0500</td>\n",
              "      <td>NaN</td>\n",
              "      <td>S</td>\n",
              "    </tr>\n",
              "  </tbody>\n",
              "</table>\n",
              "</div>"
            ],
            "text/plain": [
              "   PassengerId  Survived  Pclass  ...     Fare Cabin  Embarked\n",
              "0            1         0       3  ...   7.2500   NaN         S\n",
              "1            2         1       1  ...  71.2833   C85         C\n",
              "2            3         1       3  ...   7.9250   NaN         S\n",
              "3            4         1       1  ...  53.1000  C123         S\n",
              "4            5         0       3  ...   8.0500   NaN         S\n",
              "\n",
              "[5 rows x 12 columns]"
            ]
          },
          "metadata": {
            "tags": []
          },
          "execution_count": 2
        }
      ]
    },
    {
      "cell_type": "markdown",
      "metadata": {
        "id": "s-whPShsUZn7"
      },
      "source": [
        "**Using *df.shape* to return the rows and columns present in the dataset**"
      ]
    },
    {
      "cell_type": "code",
      "metadata": {
        "colab": {
          "base_uri": "https://localhost:8080/"
        },
        "id": "nzuJNuiBD7_h",
        "outputId": "90e613a0-93c2-4bad-ce61-ca85de7037f6"
      },
      "source": [
        "#to fine out number of rows and columns present\n",
        "df.shape"
      ],
      "execution_count": null,
      "outputs": [
        {
          "output_type": "execute_result",
          "data": {
            "text/plain": [
              "(891, 12)"
            ]
          },
          "metadata": {
            "tags": []
          },
          "execution_count": 3
        }
      ]
    },
    {
      "cell_type": "markdown",
      "metadata": {
        "id": "rI4NPCvPUqAV"
      },
      "source": [
        "*Above shows that there are 891 rows and 12 columns*"
      ]
    },
    {
      "cell_type": "markdown",
      "metadata": {
        "id": "AsIW4InAUzvW"
      },
      "source": [
        "**Before performing any kind of operation on the dataset in order to analyse, it is VERY IMPORTANT to handle the null value**"
      ]
    },
    {
      "cell_type": "code",
      "metadata": {
        "colab": {
          "base_uri": "https://localhost:8080/"
        },
        "id": "MqPLWPsNEElh",
        "outputId": "92cd349f-f605-406d-f611-9b09cd5fda48"
      },
      "source": [
        "#handling the null value is important before performing any operation on the dataset\n",
        "df.isnull().sum()"
      ],
      "execution_count": null,
      "outputs": [
        {
          "output_type": "execute_result",
          "data": {
            "text/plain": [
              "PassengerId      0\n",
              "Survived         0\n",
              "Pclass           0\n",
              "Name             0\n",
              "Sex              0\n",
              "Age            177\n",
              "SibSp            0\n",
              "Parch            0\n",
              "Ticket           0\n",
              "Fare             0\n",
              "Cabin          687\n",
              "Embarked         2\n",
              "dtype: int64"
            ]
          },
          "metadata": {
            "tags": []
          },
          "execution_count": 4
        }
      ]
    },
    {
      "cell_type": "markdown",
      "metadata": {
        "id": "AZNvuCOLVKIT"
      },
      "source": [
        "**Sorting only those columns having more than 55% of data missing**"
      ]
    },
    {
      "cell_type": "code",
      "metadata": {
        "colab": {
          "base_uri": "https://localhost:8080/"
        },
        "id": "6w3oBMApE8qS",
        "outputId": "5a8ff135-ec81-41a2-c1e1-bb9b9c92c815"
      },
      "source": [
        "t=df.isnull().sum()\n",
        "drop_col = t[t>(55/100*df.shape[0])]\n",
        "drop_col"
      ],
      "execution_count": null,
      "outputs": [
        {
          "output_type": "execute_result",
          "data": {
            "text/plain": [
              "Cabin    687\n",
              "dtype: int64"
            ]
          },
          "metadata": {
            "tags": []
          },
          "execution_count": 5
        }
      ]
    },
    {
      "cell_type": "code",
      "metadata": {
        "colab": {
          "base_uri": "https://localhost:8080/"
        },
        "id": "fHQXpNM-GumO",
        "outputId": "0102bb53-3bcb-42e7-c2ed-81490ec79614"
      },
      "source": [
        "drop_col.index\n"
      ],
      "execution_count": null,
      "outputs": [
        {
          "output_type": "execute_result",
          "data": {
            "text/plain": [
              "Index(['Cabin'], dtype='object')"
            ]
          },
          "metadata": {
            "tags": []
          },
          "execution_count": 6
        }
      ]
    },
    {
      "cell_type": "markdown",
      "metadata": {
        "id": "SMihCLByVZhM"
      },
      "source": [
        "**Correlation is beng done below**"
      ]
    },
    {
      "cell_type": "code",
      "metadata": {
        "colab": {
          "base_uri": "https://localhost:8080/",
          "height": 266
        },
        "id": "PPv7RYsTHpPO",
        "outputId": "d048800f-ef1f-4a70-93f7-de33eb8f3735"
      },
      "source": [
        "df.corr()"
      ],
      "execution_count": null,
      "outputs": [
        {
          "output_type": "execute_result",
          "data": {
            "text/html": [
              "<div>\n",
              "<style scoped>\n",
              "    .dataframe tbody tr th:only-of-type {\n",
              "        vertical-align: middle;\n",
              "    }\n",
              "\n",
              "    .dataframe tbody tr th {\n",
              "        vertical-align: top;\n",
              "    }\n",
              "\n",
              "    .dataframe thead th {\n",
              "        text-align: right;\n",
              "    }\n",
              "</style>\n",
              "<table border=\"1\" class=\"dataframe\">\n",
              "  <thead>\n",
              "    <tr style=\"text-align: right;\">\n",
              "      <th></th>\n",
              "      <th>PassengerId</th>\n",
              "      <th>Survived</th>\n",
              "      <th>Pclass</th>\n",
              "      <th>Age</th>\n",
              "      <th>SibSp</th>\n",
              "      <th>Parch</th>\n",
              "      <th>Fare</th>\n",
              "    </tr>\n",
              "  </thead>\n",
              "  <tbody>\n",
              "    <tr>\n",
              "      <th>PassengerId</th>\n",
              "      <td>1.000000</td>\n",
              "      <td>-0.005007</td>\n",
              "      <td>-0.035144</td>\n",
              "      <td>0.036847</td>\n",
              "      <td>-0.057527</td>\n",
              "      <td>-0.001652</td>\n",
              "      <td>0.012658</td>\n",
              "    </tr>\n",
              "    <tr>\n",
              "      <th>Survived</th>\n",
              "      <td>-0.005007</td>\n",
              "      <td>1.000000</td>\n",
              "      <td>-0.338481</td>\n",
              "      <td>-0.077221</td>\n",
              "      <td>-0.035322</td>\n",
              "      <td>0.081629</td>\n",
              "      <td>0.257307</td>\n",
              "    </tr>\n",
              "    <tr>\n",
              "      <th>Pclass</th>\n",
              "      <td>-0.035144</td>\n",
              "      <td>-0.338481</td>\n",
              "      <td>1.000000</td>\n",
              "      <td>-0.369226</td>\n",
              "      <td>0.083081</td>\n",
              "      <td>0.018443</td>\n",
              "      <td>-0.549500</td>\n",
              "    </tr>\n",
              "    <tr>\n",
              "      <th>Age</th>\n",
              "      <td>0.036847</td>\n",
              "      <td>-0.077221</td>\n",
              "      <td>-0.369226</td>\n",
              "      <td>1.000000</td>\n",
              "      <td>-0.308247</td>\n",
              "      <td>-0.189119</td>\n",
              "      <td>0.096067</td>\n",
              "    </tr>\n",
              "    <tr>\n",
              "      <th>SibSp</th>\n",
              "      <td>-0.057527</td>\n",
              "      <td>-0.035322</td>\n",
              "      <td>0.083081</td>\n",
              "      <td>-0.308247</td>\n",
              "      <td>1.000000</td>\n",
              "      <td>0.414838</td>\n",
              "      <td>0.159651</td>\n",
              "    </tr>\n",
              "    <tr>\n",
              "      <th>Parch</th>\n",
              "      <td>-0.001652</td>\n",
              "      <td>0.081629</td>\n",
              "      <td>0.018443</td>\n",
              "      <td>-0.189119</td>\n",
              "      <td>0.414838</td>\n",
              "      <td>1.000000</td>\n",
              "      <td>0.216225</td>\n",
              "    </tr>\n",
              "    <tr>\n",
              "      <th>Fare</th>\n",
              "      <td>0.012658</td>\n",
              "      <td>0.257307</td>\n",
              "      <td>-0.549500</td>\n",
              "      <td>0.096067</td>\n",
              "      <td>0.159651</td>\n",
              "      <td>0.216225</td>\n",
              "      <td>1.000000</td>\n",
              "    </tr>\n",
              "  </tbody>\n",
              "</table>\n",
              "</div>"
            ],
            "text/plain": [
              "             PassengerId  Survived    Pclass  ...     SibSp     Parch      Fare\n",
              "PassengerId     1.000000 -0.005007 -0.035144  ... -0.057527 -0.001652  0.012658\n",
              "Survived       -0.005007  1.000000 -0.338481  ... -0.035322  0.081629  0.257307\n",
              "Pclass         -0.035144 -0.338481  1.000000  ...  0.083081  0.018443 -0.549500\n",
              "Age             0.036847 -0.077221 -0.369226  ... -0.308247 -0.189119  0.096067\n",
              "SibSp          -0.057527 -0.035322  0.083081  ...  1.000000  0.414838  0.159651\n",
              "Parch          -0.001652  0.081629  0.018443  ...  0.414838  1.000000  0.216225\n",
              "Fare            0.012658  0.257307 -0.549500  ...  0.159651  0.216225  1.000000\n",
              "\n",
              "[7 rows x 7 columns]"
            ]
          },
          "metadata": {
            "tags": []
          },
          "execution_count": 7
        }
      ]
    },
    {
      "cell_type": "markdown",
      "metadata": {
        "id": "9nGjv-uvVeS5"
      },
      "source": [
        "**Grouping or sorting the entire dataset only to the gender of the passengers and the survival rate**\n",
        "\n",
        "\n",
        "*WE SEE THAT THE SURVIVAL RATE OF FEMALES IS HIGHER THAN THE SURVIVAL RATE OF MALES*"
      ]
    },
    {
      "cell_type": "code",
      "metadata": {
        "colab": {
          "base_uri": "https://localhost:8080/"
        },
        "id": "NnHuc0uCHy5u",
        "outputId": "0ff526e7-19d1-4572-cb4b-e08efbac0c55"
      },
      "source": [
        "df.groupby(['Sex'])['Survived'].mean()"
      ],
      "execution_count": null,
      "outputs": [
        {
          "output_type": "execute_result",
          "data": {
            "text/plain": [
              "Sex\n",
              "female    0.742038\n",
              "male      0.188908\n",
              "Name: Survived, dtype: float64"
            ]
          },
          "metadata": {
            "tags": []
          },
          "execution_count": 8
        }
      ]
    },
    {
      "cell_type": "markdown",
      "metadata": {
        "id": "GdT26STeV5C5"
      },
      "source": [
        "**Grouping based on Passenger Class to get the survival rate**\n",
        "\n",
        "*WE SEE THAT THE SURVIVAL RATE IS MOST IN 1ST CLASS, LITTLE LESS IN 2ND CLASS AND LEAST IN 3RD CLASS -> 1ST > 2ND > 3RD*"
      ]
    },
    {
      "cell_type": "code",
      "metadata": {
        "colab": {
          "base_uri": "https://localhost:8080/"
        },
        "id": "0fs9QK0EJ7qm",
        "outputId": "8723f505-c397-488d-a0f1-9993fe2b5b11"
      },
      "source": [
        "df.groupby(['Pclass'])['Survived'].mean()"
      ],
      "execution_count": null,
      "outputs": [
        {
          "output_type": "execute_result",
          "data": {
            "text/plain": [
              "Pclass\n",
              "1    0.629630\n",
              "2    0.472826\n",
              "3    0.242363\n",
              "Name: Survived, dtype: float64"
            ]
          },
          "metadata": {
            "tags": []
          },
          "execution_count": 9
        }
      ]
    },
    {
      "cell_type": "markdown",
      "metadata": {
        "id": "iqZ5wx8QXVRC"
      },
      "source": [
        "**Correlating Passenger Class with Fare**"
      ]
    },
    {
      "cell_type": "code",
      "metadata": {
        "colab": {
          "base_uri": "https://localhost:8080/",
          "height": 111
        },
        "id": "DDeyghjQLGCi",
        "outputId": "7f8aa7c8-5169-409c-d7e6-33abd2fc6dc6"
      },
      "source": [
        "df[['Pclass','Fare']].corr()"
      ],
      "execution_count": null,
      "outputs": [
        {
          "output_type": "execute_result",
          "data": {
            "text/html": [
              "<div>\n",
              "<style scoped>\n",
              "    .dataframe tbody tr th:only-of-type {\n",
              "        vertical-align: middle;\n",
              "    }\n",
              "\n",
              "    .dataframe tbody tr th {\n",
              "        vertical-align: top;\n",
              "    }\n",
              "\n",
              "    .dataframe thead th {\n",
              "        text-align: right;\n",
              "    }\n",
              "</style>\n",
              "<table border=\"1\" class=\"dataframe\">\n",
              "  <thead>\n",
              "    <tr style=\"text-align: right;\">\n",
              "      <th></th>\n",
              "      <th>Pclass</th>\n",
              "      <th>Fare</th>\n",
              "    </tr>\n",
              "  </thead>\n",
              "  <tbody>\n",
              "    <tr>\n",
              "      <th>Pclass</th>\n",
              "      <td>1.0000</td>\n",
              "      <td>-0.5495</td>\n",
              "    </tr>\n",
              "    <tr>\n",
              "      <th>Fare</th>\n",
              "      <td>-0.5495</td>\n",
              "      <td>1.0000</td>\n",
              "    </tr>\n",
              "  </tbody>\n",
              "</table>\n",
              "</div>"
            ],
            "text/plain": [
              "        Pclass    Fare\n",
              "Pclass  1.0000 -0.5495\n",
              "Fare   -0.5495  1.0000"
            ]
          },
          "metadata": {
            "tags": []
          },
          "execution_count": 10
        }
      ]
    },
    {
      "cell_type": "markdown",
      "metadata": {
        "id": "lE36HaInXhqb"
      },
      "source": [
        "**Combining the siblings/spouse aboard and the parents/children aboard and correlation is done.**\n",
        "\n",
        "*FamilySize=sibllings/spouse+parents/children*"
      ]
    },
    {
      "cell_type": "code",
      "metadata": {
        "colab": {
          "base_uri": "https://localhost:8080/",
          "height": 235
        },
        "id": "GANm4gUPLiIk",
        "outputId": "2e42a2ec-568f-4ccd-be5a-1c9beb8338f7"
      },
      "source": [
        "df['FamilySize'] = df['SibSp']+df['Parch']\n",
        "df.drop(['SibSp','Parch'], axis=1, inplace=True)\n",
        "df.corr()"
      ],
      "execution_count": null,
      "outputs": [
        {
          "output_type": "execute_result",
          "data": {
            "text/html": [
              "<div>\n",
              "<style scoped>\n",
              "    .dataframe tbody tr th:only-of-type {\n",
              "        vertical-align: middle;\n",
              "    }\n",
              "\n",
              "    .dataframe tbody tr th {\n",
              "        vertical-align: top;\n",
              "    }\n",
              "\n",
              "    .dataframe thead th {\n",
              "        text-align: right;\n",
              "    }\n",
              "</style>\n",
              "<table border=\"1\" class=\"dataframe\">\n",
              "  <thead>\n",
              "    <tr style=\"text-align: right;\">\n",
              "      <th></th>\n",
              "      <th>PassengerId</th>\n",
              "      <th>Survived</th>\n",
              "      <th>Pclass</th>\n",
              "      <th>Age</th>\n",
              "      <th>Fare</th>\n",
              "      <th>FamilySize</th>\n",
              "    </tr>\n",
              "  </thead>\n",
              "  <tbody>\n",
              "    <tr>\n",
              "      <th>PassengerId</th>\n",
              "      <td>1.000000</td>\n",
              "      <td>-0.005007</td>\n",
              "      <td>-0.035144</td>\n",
              "      <td>0.036847</td>\n",
              "      <td>0.012658</td>\n",
              "      <td>-0.040143</td>\n",
              "    </tr>\n",
              "    <tr>\n",
              "      <th>Survived</th>\n",
              "      <td>-0.005007</td>\n",
              "      <td>1.000000</td>\n",
              "      <td>-0.338481</td>\n",
              "      <td>-0.077221</td>\n",
              "      <td>0.257307</td>\n",
              "      <td>0.016639</td>\n",
              "    </tr>\n",
              "    <tr>\n",
              "      <th>Pclass</th>\n",
              "      <td>-0.035144</td>\n",
              "      <td>-0.338481</td>\n",
              "      <td>1.000000</td>\n",
              "      <td>-0.369226</td>\n",
              "      <td>-0.549500</td>\n",
              "      <td>0.065997</td>\n",
              "    </tr>\n",
              "    <tr>\n",
              "      <th>Age</th>\n",
              "      <td>0.036847</td>\n",
              "      <td>-0.077221</td>\n",
              "      <td>-0.369226</td>\n",
              "      <td>1.000000</td>\n",
              "      <td>0.096067</td>\n",
              "      <td>-0.301914</td>\n",
              "    </tr>\n",
              "    <tr>\n",
              "      <th>Fare</th>\n",
              "      <td>0.012658</td>\n",
              "      <td>0.257307</td>\n",
              "      <td>-0.549500</td>\n",
              "      <td>0.096067</td>\n",
              "      <td>1.000000</td>\n",
              "      <td>0.217138</td>\n",
              "    </tr>\n",
              "    <tr>\n",
              "      <th>FamilySize</th>\n",
              "      <td>-0.040143</td>\n",
              "      <td>0.016639</td>\n",
              "      <td>0.065997</td>\n",
              "      <td>-0.301914</td>\n",
              "      <td>0.217138</td>\n",
              "      <td>1.000000</td>\n",
              "    </tr>\n",
              "  </tbody>\n",
              "</table>\n",
              "</div>"
            ],
            "text/plain": [
              "             PassengerId  Survived    Pclass       Age      Fare  FamilySize\n",
              "PassengerId     1.000000 -0.005007 -0.035144  0.036847  0.012658   -0.040143\n",
              "Survived       -0.005007  1.000000 -0.338481 -0.077221  0.257307    0.016639\n",
              "Pclass         -0.035144 -0.338481  1.000000 -0.369226 -0.549500    0.065997\n",
              "Age             0.036847 -0.077221 -0.369226  1.000000  0.096067   -0.301914\n",
              "Fare            0.012658  0.257307 -0.549500  0.096067  1.000000    0.217138\n",
              "FamilySize     -0.040143  0.016639  0.065997 -0.301914  0.217138    1.000000"
            ]
          },
          "metadata": {
            "tags": []
          },
          "execution_count": 11
        }
      ]
    },
    {
      "cell_type": "markdown",
      "metadata": {
        "id": "lGf-jfWVX7J-"
      },
      "source": [
        "**Describing the Embarked column**"
      ]
    },
    {
      "cell_type": "code",
      "metadata": {
        "colab": {
          "base_uri": "https://localhost:8080/"
        },
        "id": "JEhxM11GMGxo",
        "outputId": "597d7e6e-3ed0-4cbe-9233-4ed2786dfbd2"
      },
      "source": [
        "df['Embarked'].describe()"
      ],
      "execution_count": null,
      "outputs": [
        {
          "output_type": "execute_result",
          "data": {
            "text/plain": [
              "count     889\n",
              "unique      3\n",
              "top         S\n",
              "freq      644\n",
              "Name: Embarked, dtype: object"
            ]
          },
          "metadata": {
            "tags": []
          },
          "execution_count": 12
        }
      ]
    },
    {
      "cell_type": "markdown",
      "metadata": {
        "id": "wJel5FzNYA6B"
      },
      "source": [
        "**Grouping based on Embarkment -> C is Cherbourg, Q is Queenstown, S is Southamton**\n",
        "\n",
        "*WE SEE THAT PEOPLE WHO EMBARKED(BOARDED THE SHIP) IN CHERBOURG HAD MORE CHANCES OF SURVIVAL AS COMAPRED TO QUEENSTOWN AND SOUTHAMPTON -> C > Q > S*"
      ]
    },
    {
      "cell_type": "code",
      "metadata": {
        "colab": {
          "base_uri": "https://localhost:8080/"
        },
        "id": "6-Y6We3iMPqL",
        "outputId": "7740506d-75b8-4373-ad99-393cd08b4bc0"
      },
      "source": [
        "df.groupby(['Embarked'])['Survived'].mean()"
      ],
      "execution_count": null,
      "outputs": [
        {
          "output_type": "execute_result",
          "data": {
            "text/plain": [
              "Embarked\n",
              "C    0.553571\n",
              "Q    0.389610\n",
              "S    0.336957\n",
              "Name: Survived, dtype: float64"
            ]
          },
          "metadata": {
            "tags": []
          },
          "execution_count": 13
        }
      ]
    },
    {
      "cell_type": "markdown",
      "metadata": {
        "id": "I7q8aQU3Y7bI"
      },
      "source": [
        "**Grouping based on Age**\n",
        "\n",
        "*WE SEE THAT THE SURVIVAL RATE VARIES FOR VARIOUS AGE GROUP*"
      ]
    },
    {
      "cell_type": "code",
      "metadata": {
        "colab": {
          "base_uri": "https://localhost:8080/"
        },
        "id": "4KMZnu9eNdlQ",
        "outputId": "0bd05050-638b-4050-8eaa-7ee8d653a3aa"
      },
      "source": [
        "df.groupby(['Age'])['Survived'].mean()"
      ],
      "execution_count": null,
      "outputs": [
        {
          "output_type": "execute_result",
          "data": {
            "text/plain": [
              "Age\n",
              "0.42     1.0\n",
              "0.67     1.0\n",
              "0.75     1.0\n",
              "0.83     1.0\n",
              "0.92     1.0\n",
              "        ... \n",
              "70.00    0.0\n",
              "70.50    0.0\n",
              "71.00    0.0\n",
              "74.00    0.0\n",
              "80.00    1.0\n",
              "Name: Survived, Length: 88, dtype: float64"
            ]
          },
          "metadata": {
            "tags": []
          },
          "execution_count": 14
        }
      ]
    },
    {
      "cell_type": "code",
      "metadata": {
        "colab": {
          "base_uri": "https://localhost:8080/"
        },
        "id": "3C7yIvghN9kZ",
        "outputId": "317e0e4c-b390-4855-cd5e-932c9792354a"
      },
      "source": [
        "df.fillna(df.mean(), inplace=True)\n",
        "df.isnull().sum()"
      ],
      "execution_count": null,
      "outputs": [
        {
          "output_type": "execute_result",
          "data": {
            "text/plain": [
              "PassengerId      0\n",
              "Survived         0\n",
              "Pclass           0\n",
              "Name             0\n",
              "Sex              0\n",
              "Age              0\n",
              "Ticket           0\n",
              "Fare             0\n",
              "Cabin          687\n",
              "Embarked         2\n",
              "FamilySize       0\n",
              "dtype: int64"
            ]
          },
          "metadata": {
            "tags": []
          },
          "execution_count": 16
        }
      ]
    },
    {
      "cell_type": "code",
      "metadata": {
        "id": "-cHJa3mMOPb7"
      },
      "source": [
        "df['Embarked'].fillna('S', inplace=True)"
      ],
      "execution_count": null,
      "outputs": []
    },
    {
      "cell_type": "code",
      "metadata": {
        "colab": {
          "base_uri": "https://localhost:8080/"
        },
        "id": "ERSX1FKpPfA-",
        "outputId": "a35770f9-416a-4406-adb9-4c327071285f"
      },
      "source": [
        "df.isnull().sum()"
      ],
      "execution_count": null,
      "outputs": [
        {
          "output_type": "execute_result",
          "data": {
            "text/plain": [
              "PassengerId      0\n",
              "Survived         0\n",
              "Pclass           0\n",
              "Name             0\n",
              "Sex              0\n",
              "Age              0\n",
              "Ticket           0\n",
              "Fare             0\n",
              "Cabin          687\n",
              "Embarked         0\n",
              "FamilySize       0\n",
              "dtype: int64"
            ]
          },
          "metadata": {
            "tags": []
          },
          "execution_count": 18
        }
      ]
    },
    {
      "cell_type": "markdown",
      "metadata": {
        "id": "jUI_AekUZQd5"
      },
      "source": [
        "**Grouping based on Family size- whether traveling alone or with sib/sp or par/ch**"
      ]
    },
    {
      "cell_type": "code",
      "metadata": {
        "colab": {
          "base_uri": "https://localhost:8080/"
        },
        "id": "CUG44t_NPiDF",
        "outputId": "94f25cf8-8ac8-4a97-f184-afafa1a16dfa"
      },
      "source": [
        "df.groupby(['FamilySize'])['Survived'].mean()"
      ],
      "execution_count": null,
      "outputs": [
        {
          "output_type": "execute_result",
          "data": {
            "text/plain": [
              "FamilySize\n",
              "0     0.303538\n",
              "1     0.552795\n",
              "2     0.578431\n",
              "3     0.724138\n",
              "4     0.200000\n",
              "5     0.136364\n",
              "6     0.333333\n",
              "7     0.000000\n",
              "10    0.000000\n",
              "Name: Survived, dtype: float64"
            ]
          },
          "metadata": {
            "tags": []
          },
          "execution_count": 20
        }
      ]
    },
    {
      "cell_type": "code",
      "metadata": {
        "colab": {
          "base_uri": "https://localhost:8080/",
          "height": 204
        },
        "id": "o9eIu80mQDIZ",
        "outputId": "cabec0cd-95ed-4609-d640-ee571446b514"
      },
      "source": [
        "df['FamilySize'] = [1 if df['FamilySize'][i]>0 else 0 for i in df.index]\n",
        "df.head()"
      ],
      "execution_count": null,
      "outputs": [
        {
          "output_type": "execute_result",
          "data": {
            "text/html": [
              "<div>\n",
              "<style scoped>\n",
              "    .dataframe tbody tr th:only-of-type {\n",
              "        vertical-align: middle;\n",
              "    }\n",
              "\n",
              "    .dataframe tbody tr th {\n",
              "        vertical-align: top;\n",
              "    }\n",
              "\n",
              "    .dataframe thead th {\n",
              "        text-align: right;\n",
              "    }\n",
              "</style>\n",
              "<table border=\"1\" class=\"dataframe\">\n",
              "  <thead>\n",
              "    <tr style=\"text-align: right;\">\n",
              "      <th></th>\n",
              "      <th>PassengerId</th>\n",
              "      <th>Survived</th>\n",
              "      <th>Pclass</th>\n",
              "      <th>Name</th>\n",
              "      <th>Sex</th>\n",
              "      <th>Age</th>\n",
              "      <th>Ticket</th>\n",
              "      <th>Fare</th>\n",
              "      <th>Cabin</th>\n",
              "      <th>Embarked</th>\n",
              "      <th>FamilySize</th>\n",
              "    </tr>\n",
              "  </thead>\n",
              "  <tbody>\n",
              "    <tr>\n",
              "      <th>0</th>\n",
              "      <td>1</td>\n",
              "      <td>0</td>\n",
              "      <td>3</td>\n",
              "      <td>Braund, Mr. Owen Harris</td>\n",
              "      <td>male</td>\n",
              "      <td>22.0</td>\n",
              "      <td>A/5 21171</td>\n",
              "      <td>7.2500</td>\n",
              "      <td>NaN</td>\n",
              "      <td>S</td>\n",
              "      <td>1</td>\n",
              "    </tr>\n",
              "    <tr>\n",
              "      <th>1</th>\n",
              "      <td>2</td>\n",
              "      <td>1</td>\n",
              "      <td>1</td>\n",
              "      <td>Cumings, Mrs. John Bradley (Florence Briggs Th...</td>\n",
              "      <td>female</td>\n",
              "      <td>38.0</td>\n",
              "      <td>PC 17599</td>\n",
              "      <td>71.2833</td>\n",
              "      <td>C85</td>\n",
              "      <td>C</td>\n",
              "      <td>1</td>\n",
              "    </tr>\n",
              "    <tr>\n",
              "      <th>2</th>\n",
              "      <td>3</td>\n",
              "      <td>1</td>\n",
              "      <td>3</td>\n",
              "      <td>Heikkinen, Miss. Laina</td>\n",
              "      <td>female</td>\n",
              "      <td>26.0</td>\n",
              "      <td>STON/O2. 3101282</td>\n",
              "      <td>7.9250</td>\n",
              "      <td>NaN</td>\n",
              "      <td>S</td>\n",
              "      <td>0</td>\n",
              "    </tr>\n",
              "    <tr>\n",
              "      <th>3</th>\n",
              "      <td>4</td>\n",
              "      <td>1</td>\n",
              "      <td>1</td>\n",
              "      <td>Futrelle, Mrs. Jacques Heath (Lily May Peel)</td>\n",
              "      <td>female</td>\n",
              "      <td>35.0</td>\n",
              "      <td>113803</td>\n",
              "      <td>53.1000</td>\n",
              "      <td>C123</td>\n",
              "      <td>S</td>\n",
              "      <td>1</td>\n",
              "    </tr>\n",
              "    <tr>\n",
              "      <th>4</th>\n",
              "      <td>5</td>\n",
              "      <td>0</td>\n",
              "      <td>3</td>\n",
              "      <td>Allen, Mr. William Henry</td>\n",
              "      <td>male</td>\n",
              "      <td>35.0</td>\n",
              "      <td>373450</td>\n",
              "      <td>8.0500</td>\n",
              "      <td>NaN</td>\n",
              "      <td>S</td>\n",
              "      <td>0</td>\n",
              "    </tr>\n",
              "  </tbody>\n",
              "</table>\n",
              "</div>"
            ],
            "text/plain": [
              "   PassengerId  Survived  Pclass  ... Cabin Embarked  FamilySize\n",
              "0            1         0       3  ...   NaN        S           1\n",
              "1            2         1       1  ...   C85        C           1\n",
              "2            3         1       3  ...   NaN        S           0\n",
              "3            4         1       1  ...  C123        S           1\n",
              "4            5         0       3  ...   NaN        S           0\n",
              "\n",
              "[5 rows x 11 columns]"
            ]
          },
          "metadata": {
            "tags": []
          },
          "execution_count": 22
        }
      ]
    },
    {
      "cell_type": "markdown",
      "metadata": {
        "id": "Lt04Tz32Zn2M"
      },
      "source": [
        "**CONCLUSION**\n",
        "\n",
        "Firstly let's conclude based on previous operations performed and then the table above.\n",
        "*   *Survival Rate of Females is higher than that of Males i.e, More number of Females have survived than Males.*\n",
        "\n",
        "*   *Survival Rate of people traveling in 1st class is higher which corresponds to people who are richer than the most, as we can see from the dataset that 1st class fare is high.*\n",
        "\n",
        "\n",
        "*   *Survivale Rate of Passengers boarding at Cherbourg is higher than that of embarkment Queenstown which is higher than that of embarkment Southampton.*\n",
        "   \n",
        "\n",
        "*   *Survival Rate of Passengers traveling alone is higher than the Passengers who have travelled with Family.*\n",
        "\n",
        "\n",
        "*From the table above,we see that when there is family and the class is 3, survival rate is MINIMUM.*\n",
        "\n",
        "*when the family is there and the class is 1, they have survived.*\n",
        "\n",
        "*when there is no family present and class is 3, they have survived.*\n",
        "\n",
        "*when there is no family but class is 1, they have survived.*\n",
        "\n",
        "\n",
        "\n",
        "\n",
        "\n"
      ]
    },
    {
      "cell_type": "markdown",
      "metadata": {
        "id": "foganwU7c6Wz"
      },
      "source": [
        "ANALYSIS OF THE GIVEN DATASET BY SHAPEAI AS PROJECT FOR THE 7- DAY BOOTCAMP:PYTHON AND DATA ANALYSIS (TAUGHT BY NANDINI MA'AM) COMPLETED."
      ]
    },
    {
      "cell_type": "code",
      "metadata": {
        "id": "B-kr8BfNRNMY"
      },
      "source": [
        ""
      ],
      "execution_count": null,
      "outputs": []
    }
  ]
}